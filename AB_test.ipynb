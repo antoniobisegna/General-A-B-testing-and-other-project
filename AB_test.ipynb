{
  "cells": [
    {
      "cell_type": "markdown",
      "id": "d0f94e5c-3830-4d9c-b783-97b02da36a9d",
      "metadata": {
        "id": "d0f94e5c-3830-4d9c-b783-97b02da36a9d"
      },
      "source": [
        "# AB Test gaming experiment"
      ]
    },
    {
      "cell_type": "markdown",
      "id": "decb2c06-ac06-484a-82f5-e3fa9e8a774b",
      "metadata": {
        "id": "decb2c06-ac06-484a-82f5-e3fa9e8a774b"
      },
      "source": [
        "## Data"
      ]
    },
    {
      "cell_type": "markdown",
      "id": "d58f6653-8a1a-4273-8f3d-006836e48813",
      "metadata": {
        "id": "d58f6653-8a1a-4273-8f3d-006836e48813"
      },
      "source": [
        "Data is composed of two datasets, which contains information on players of a game. Some of them have been exposed to a new feature and some are not. First thing, after importing the data it is important to do some checks on it. Especially on the $\\textbf{assignment}$ table since it contains the relevant information for the A/B test "
      ]
    },
    {
      "cell_type": "code",
      "execution_count": null,
      "id": "108b3b50-81db-4fed-aa8b-23491394277a",
      "metadata": {
        "id": "108b3b50-81db-4fed-aa8b-23491394277a"
      },
      "outputs": [],
      "source": [
        "import numpy as np\n",
        "import pandas as pd\n",
        "import scipy.stats as stats\n",
        "import matplotlib.pyplot as plt\n",
        "import seaborn as sns"
      ]
    },
    {
      "cell_type": "code",
      "execution_count": null,
      "id": "f8fdfe9e-69af-477c-a81b-f6486928830b",
      "metadata": {
        "id": "f8fdfe9e-69af-477c-a81b-f6486928830b",
        "outputId": "7fc37e4f-8ed4-40be-d256-ee8f907181f0"
      },
      "outputs": [
        {
          "name": "stderr",
          "output_type": "stream",
          "text": [
            "Query complete after 0.02s: 100%|██████████| 1/1 [00:00<00:00, 556.86query/s] \n",
            "Downloading: 100%|██████████| 10331056/10331056 [00:08<00:00, 1167479.20rows/s]\n"
          ]
        }
      ],
      "source": [
        "%%bigquery assignment\n",
        "SELECT\n",
        "  *\n",
        "FROM\n",
        "  `king-ds-recruit-candidate-722.abtest.assignment`"
      ]
    },
    {
      "cell_type": "code",
      "execution_count": null,
      "id": "5f4a7b7f-fa62-4c17-ae7e-8a61ce731dba",
      "metadata": {
        "id": "5f4a7b7f-fa62-4c17-ae7e-8a61ce731dba",
        "outputId": "182b3490-2d3d-49bc-bc0c-695f30e878e4"
      },
      "outputs": [
        {
          "name": "stderr",
          "output_type": "stream",
          "text": [
            "Query complete after 0.00s: 100%|██████████| 1/1 [00:00<00:00, 600.13query/s] \n",
            "Downloading: 100%|██████████| 214878701/214878701 [03:18<00:00, 1080763.03rows/s]\n"
          ]
        }
      ],
      "source": [
        "%%bigquery activity\n",
        "SELECT\n",
        "  playerid, activity_date, gameends\n",
        "FROM\n",
        "  `king-ds-recruit-candidate-722.abtest.activity`"
      ]
    },
    {
      "cell_type": "markdown",
      "id": "89440049-1431-4187-9340-5dce7a81e77b",
      "metadata": {
        "id": "89440049-1431-4187-9340-5dce7a81e77b"
      },
      "source": [
        "### Assignment table\n",
        "Check for the number of players per group, 80% should be in the *control* group and 20% in the *experiment* group "
      ]
    },
    {
      "cell_type": "code",
      "execution_count": null,
      "id": "da27a8b7-c936-4a09-9989-4707957e22d8",
      "metadata": {
        "id": "da27a8b7-c936-4a09-9989-4707957e22d8",
        "outputId": "bbcf6f2e-7c1e-4ac0-cacb-2e435fd625c6"
      },
      "outputs": [
        {
          "data": {
            "text/plain": [
              "A    8265610\n",
              "B    2065446\n",
              "Name: abtest_group, dtype: int64"
            ]
          },
          "execution_count": 4,
          "metadata": {},
          "output_type": "execute_result"
        }
      ],
      "source": [
        "assignment['abtest_group'].value_counts()"
      ]
    },
    {
      "cell_type": "code",
      "execution_count": null,
      "id": "78f10a8c-1550-4082-bf70-77540c550c8b",
      "metadata": {
        "id": "78f10a8c-1550-4082-bf70-77540c550c8b",
        "outputId": "1f83199d-3529-459c-df9b-57ac2ef20f70"
      },
      "outputs": [
        {
          "name": "stdout",
          "output_type": "stream",
          "text": [
            "There are 0 players that appear multiple times in the dataset\n"
          ]
        }
      ],
      "source": [
        "counts = assignment['playerid'].value_counts(ascending=False)\n",
        "multi_players = counts[counts > 1].count()\n",
        "\n",
        "print(f'There are {multi_players} players that appear multiple times in the dataset')"
      ]
    },
    {
      "cell_type": "markdown",
      "id": "52707afb-6938-40cd-875e-ffc46aac83b2",
      "metadata": {
        "id": "52707afb-6938-40cd-875e-ffc46aac83b2"
      },
      "source": [
        "## Hypotesis definition\n",
        "Players are divided in two groups, the first one *A* represents the players that are not exposed to the new experience, while the group *B* is. These represent the *independent variable*, while the dependant one is actually the conversion rate; This rate defines per each group the average of conversion from non-paying players to paying ones. \n",
        "\n",
        "In order to work on the analysis it is necessary to formulate an hypothesis to start from. \n",
        "\n",
        "$ H_0 : p = p_0 \\\\\n",
        "H_\\alpha : p \\neq p_0 $ \n",
        "\n",
        "Where $p$ and $p_0$ represent the conversion rates for group B that is exposed to the new experience and group A where the experience is kept as is.\n",
        "The *$\\alpha$* value is the threshold by which “if the probability of observing a result as extreme or more (*p-value*) is lower than α, then we reject the Null hypothesis”. Since our $\\alpha$=0.05, our confidence *$(1 — \\alpha)$* which comes with a probability of 95%"
      ]
    },
    {
      "cell_type": "markdown",
      "id": "34f235ad-7a7b-4a15-a7b5-453de97e5c97",
      "metadata": {
        "id": "34f235ad-7a7b-4a15-a7b5-453de97e5c97"
      },
      "source": [
        "Now in order to calculate the convertion rate I define $\\textbf{is_conv}$ to differentiate player that actually have made a purchase on the game from the others."
      ]
    },
    {
      "cell_type": "code",
      "execution_count": null,
      "id": "d0ffb984-62bd-4534-9021-f4ac6298ad1c",
      "metadata": {
        "id": "d0ffb984-62bd-4534-9021-f4ac6298ad1c",
        "outputId": "09e982f9-b901-48b0-a4f1-1ce1feb7c642"
      },
      "outputs": [
        {
          "data": {
            "text/html": [
              "<div>\n",
              "<style scoped>\n",
              "    .dataframe tbody tr th:only-of-type {\n",
              "        vertical-align: middle;\n",
              "    }\n",
              "\n",
              "    .dataframe tbody tr th {\n",
              "        vertical-align: top;\n",
              "    }\n",
              "\n",
              "    .dataframe thead th {\n",
              "        text-align: right;\n",
              "    }\n",
              "</style>\n",
              "<table border=\"1\" class=\"dataframe\">\n",
              "  <thead>\n",
              "    <tr style=\"text-align: right;\">\n",
              "      <th></th>\n",
              "      <th>playerid</th>\n",
              "      <th>abtest_group</th>\n",
              "      <th>assignment_date</th>\n",
              "      <th>install_date</th>\n",
              "      <th>conversion_date</th>\n",
              "      <th>is_conv</th>\n",
              "    </tr>\n",
              "  </thead>\n",
              "  <tbody>\n",
              "    <tr>\n",
              "      <th>0</th>\n",
              "      <td>5370700</td>\n",
              "      <td>A</td>\n",
              "      <td>2017-05-04</td>\n",
              "      <td>2016-02-23</td>\n",
              "      <td>None</td>\n",
              "      <td>0</td>\n",
              "    </tr>\n",
              "    <tr>\n",
              "      <th>1</th>\n",
              "      <td>9408908</td>\n",
              "      <td>A</td>\n",
              "      <td>2017-05-04</td>\n",
              "      <td>2016-04-03</td>\n",
              "      <td>None</td>\n",
              "      <td>0</td>\n",
              "    </tr>\n",
              "    <tr>\n",
              "      <th>2</th>\n",
              "      <td>23812260</td>\n",
              "      <td>A</td>\n",
              "      <td>2017-05-04</td>\n",
              "      <td>2016-08-25</td>\n",
              "      <td>None</td>\n",
              "      <td>0</td>\n",
              "    </tr>\n",
              "    <tr>\n",
              "      <th>3</th>\n",
              "      <td>24880261</td>\n",
              "      <td>A</td>\n",
              "      <td>2017-05-04</td>\n",
              "      <td>2016-09-05</td>\n",
              "      <td>None</td>\n",
              "      <td>0</td>\n",
              "    </tr>\n",
              "    <tr>\n",
              "      <th>4</th>\n",
              "      <td>12984448</td>\n",
              "      <td>A</td>\n",
              "      <td>2017-05-04</td>\n",
              "      <td>2016-05-09</td>\n",
              "      <td>None</td>\n",
              "      <td>0</td>\n",
              "    </tr>\n",
              "    <tr>\n",
              "      <th>...</th>\n",
              "      <td>...</td>\n",
              "      <td>...</td>\n",
              "      <td>...</td>\n",
              "      <td>...</td>\n",
              "      <td>...</td>\n",
              "      <td>...</td>\n",
              "    </tr>\n",
              "    <tr>\n",
              "      <th>10331051</th>\n",
              "      <td>51035663</td>\n",
              "      <td>B</td>\n",
              "      <td>2017-05-22</td>\n",
              "      <td>2017-05-22</td>\n",
              "      <td>None</td>\n",
              "      <td>0</td>\n",
              "    </tr>\n",
              "    <tr>\n",
              "      <th>10331052</th>\n",
              "      <td>51057557</td>\n",
              "      <td>B</td>\n",
              "      <td>2017-05-22</td>\n",
              "      <td>2017-05-22</td>\n",
              "      <td>None</td>\n",
              "      <td>0</td>\n",
              "    </tr>\n",
              "    <tr>\n",
              "      <th>10331053</th>\n",
              "      <td>51103633</td>\n",
              "      <td>B</td>\n",
              "      <td>2017-05-22</td>\n",
              "      <td>2017-05-22</td>\n",
              "      <td>None</td>\n",
              "      <td>0</td>\n",
              "    </tr>\n",
              "    <tr>\n",
              "      <th>10331054</th>\n",
              "      <td>51069293</td>\n",
              "      <td>B</td>\n",
              "      <td>2017-05-22</td>\n",
              "      <td>2017-05-22</td>\n",
              "      <td>None</td>\n",
              "      <td>0</td>\n",
              "    </tr>\n",
              "    <tr>\n",
              "      <th>10331055</th>\n",
              "      <td>51056480</td>\n",
              "      <td>B</td>\n",
              "      <td>2017-05-22</td>\n",
              "      <td>2017-05-22</td>\n",
              "      <td>None</td>\n",
              "      <td>0</td>\n",
              "    </tr>\n",
              "  </tbody>\n",
              "</table>\n",
              "<p>10331056 rows × 6 columns</p>\n",
              "</div>"
            ],
            "text/plain": [
              "          playerid abtest_group assignment_date install_date conversion_date  \\\n",
              "0          5370700            A      2017-05-04   2016-02-23            None   \n",
              "1          9408908            A      2017-05-04   2016-04-03            None   \n",
              "2         23812260            A      2017-05-04   2016-08-25            None   \n",
              "3         24880261            A      2017-05-04   2016-09-05            None   \n",
              "4         12984448            A      2017-05-04   2016-05-09            None   \n",
              "...            ...          ...             ...          ...             ...   \n",
              "10331051  51035663            B      2017-05-22   2017-05-22            None   \n",
              "10331052  51057557            B      2017-05-22   2017-05-22            None   \n",
              "10331053  51103633            B      2017-05-22   2017-05-22            None   \n",
              "10331054  51069293            B      2017-05-22   2017-05-22            None   \n",
              "10331055  51056480            B      2017-05-22   2017-05-22            None   \n",
              "\n",
              "          is_conv  \n",
              "0               0  \n",
              "1               0  \n",
              "2               0  \n",
              "3               0  \n",
              "4               0  \n",
              "...           ...  \n",
              "10331051        0  \n",
              "10331052        0  \n",
              "10331053        0  \n",
              "10331054        0  \n",
              "10331055        0  \n",
              "\n",
              "[10331056 rows x 6 columns]"
            ]
          },
          "execution_count": 5,
          "metadata": {},
          "output_type": "execute_result"
        }
      ],
      "source": [
        "assignment['is_conv']=assignment['conversion_date'].apply(lambda x: 0 if x == None else 1)\n",
        "assignment"
      ]
    },
    {
      "cell_type": "markdown",
      "id": "ad9495a5-7890-41c3-a108-4971da801052",
      "metadata": {
        "id": "ad9495a5-7890-41c3-a108-4971da801052"
      },
      "source": [
        "## Results visualization\n",
        "As a first approach to visualizing the results it is important to calculate some basic statistics to get an idea of how the groups look like."
      ]
    },
    {
      "cell_type": "code",
      "execution_count": null,
      "id": "95972168-1e71-4069-baf9-e42597a68f82",
      "metadata": {
        "id": "95972168-1e71-4069-baf9-e42597a68f82",
        "outputId": "f83bc7ad-c777-409f-ba27-742e9009d479"
      },
      "outputs": [
        {
          "data": {
            "text/html": [
              "<style type=\"text/css\">\n",
              "</style>\n",
              "<table id=\"T_2feb3_\">\n",
              "  <thead>\n",
              "    <tr>\n",
              "      <th class=\"blank level0\" >&nbsp;</th>\n",
              "      <th class=\"col_heading level0 col0\" >conversion_rate</th>\n",
              "      <th class=\"col_heading level0 col1\" >std_deviation</th>\n",
              "      <th class=\"col_heading level0 col2\" >std_error</th>\n",
              "    </tr>\n",
              "    <tr>\n",
              "      <th class=\"index_name level0\" >abtest_group</th>\n",
              "      <th class=\"blank col0\" >&nbsp;</th>\n",
              "      <th class=\"blank col1\" >&nbsp;</th>\n",
              "      <th class=\"blank col2\" >&nbsp;</th>\n",
              "    </tr>\n",
              "  </thead>\n",
              "  <tbody>\n",
              "    <tr>\n",
              "      <th id=\"T_2feb3_level0_row0\" class=\"row_heading level0 row0\" >A</th>\n",
              "      <td id=\"T_2feb3_row0_col0\" class=\"data row0 col0\" >0.028</td>\n",
              "      <td id=\"T_2feb3_row0_col1\" class=\"data row0 col1\" >0.164</td>\n",
              "      <td id=\"T_2feb3_row0_col2\" class=\"data row0 col2\" >0.000</td>\n",
              "    </tr>\n",
              "    <tr>\n",
              "      <th id=\"T_2feb3_level0_row1\" class=\"row_heading level0 row1\" >B</th>\n",
              "      <td id=\"T_2feb3_row1_col0\" class=\"data row1 col0\" >0.028</td>\n",
              "      <td id=\"T_2feb3_row1_col1\" class=\"data row1 col1\" >0.164</td>\n",
              "      <td id=\"T_2feb3_row1_col2\" class=\"data row1 col2\" >0.000</td>\n",
              "    </tr>\n",
              "  </tbody>\n",
              "</table>\n"
            ],
            "text/plain": [
              "<pandas.io.formats.style.Styler at 0x7fee4618d2d0>"
            ]
          },
          "execution_count": 47,
          "metadata": {},
          "output_type": "execute_result"
        }
      ],
      "source": [
        "conversion_rates = assignment.groupby('abtest_group')['is_conv']\n",
        "\n",
        "std_p = lambda x: np.std(x, ddof=0)              # Std. deviation of the proportion\n",
        "se_p = lambda x: stats.sem(x, ddof=0)            # Std. error of the proportion (std / sqrt(n))\n",
        "\n",
        "conversion_rates = conversion_rates.agg([np.mean, std_p, se_p])\n",
        "conversion_rates.columns = ['conversion_rate', 'std_deviation', 'std_error']\n",
        "\n",
        "\n",
        "conversion_rates.style.format('{:.3f}')"
      ]
    },
    {
      "cell_type": "markdown",
      "id": "cd2e9ec0-c81f-4091-bfd0-ffb1efaf4b9d",
      "metadata": {
        "id": "cd2e9ec0-c81f-4091-bfd0-ffb1efaf4b9d"
      },
      "source": [
        "Looking at the stats, it looks like the two 'experiences' performed the same. Conversion rates are the same and as for the standard error equal to zero, we get that this sample statistics are sa accurate as possible in representing the population ones. \n",
        "\n",
        "\n",
        "<br />\n",
        "<br />\n",
        "\n",
        "Some plotting could help understand better this behaviour:"
      ]
    },
    {
      "cell_type": "code",
      "execution_count": null,
      "id": "8da27387-167b-4157-9ac6-92e6c82e9d49",
      "metadata": {
        "id": "8da27387-167b-4157-9ac6-92e6c82e9d49",
        "outputId": "66653bd5-baf4-47ee-8a4a-7f02c03b58f7"
      },
      "outputs": [
        {
          "data": {
            "image/png": "[encoded data removed]",
            "text/plain": [
              "<Figure size 800x600 with 1 Axes>"
            ]
          },
          "metadata": {},
          "output_type": "display_data"
        }
      ],
      "source": [
        "plt.figure(figsize=(8,6))\n",
        "\n",
        "sns.barplot(x=assignment['abtest_group'], y=assignment['is_conv']) #, ci=False\n",
        "\n",
        "plt.ylim(0, 0.035)\n",
        "plt.title('Conversion rate by group', pad=20)\n",
        "plt.xlabel('Group', labelpad=15)\n",
        "plt.ylabel('Converted', labelpad=15);"
      ]
    },
    {
      "cell_type": "markdown",
      "id": "31c5d5bf-1f9c-4084-b4de-b87ac670f146",
      "metadata": {
        "id": "31c5d5bf-1f9c-4084-b4de-b87ac670f146"
      },
      "source": [
        "### Statistics \n",
        "In order to further give significance to these results, it is important to test the hypotesis formulated above."
      ]
    },
    {
      "cell_type": "code",
      "execution_count": null,
      "id": "53187c42-7c4d-4f7c-b1d1-a932f87df0dd",
      "metadata": {
        "id": "53187c42-7c4d-4f7c-b1d1-a932f87df0dd"
      },
      "outputs": [],
      "source": [
        "from statsmodels.stats.proportion import proportions_ztest, proportion_confint"
      ]
    },
    {
      "cell_type": "code",
      "execution_count": null,
      "id": "a528a5ca-bc68-49a6-ab5b-14a45c429bab",
      "metadata": {
        "id": "a528a5ca-bc68-49a6-ab5b-14a45c429bab"
      },
      "outputs": [],
      "source": [
        "A_results = assignment[assignment['abtest_group'] == 'A']['is_conv']\n",
        "B_results = assignment[assignment['abtest_group'] == 'B']['is_conv']"
      ]
    },
    {
      "cell_type": "code",
      "execution_count": null,
      "id": "e691a4a4-e217-4b68-b9a8-68686f4f1bd4",
      "metadata": {
        "id": "e691a4a4-e217-4b68-b9a8-68686f4f1bd4",
        "outputId": "36a27c7d-485e-468d-a1f6-de8667e4b8a6"
      },
      "outputs": [
        {
          "name": "stdout",
          "output_type": "stream",
          "text": [
            "z statistic: 1.04\n",
            "p-value: 0.300\n",
            "ci 95% for group A: [0.028, 0.028]\n",
            "ci 95% for group B: [0.027, 0.028]\n"
          ]
        }
      ],
      "source": [
        "n_A = A_results.count()\n",
        "n_B = B_results.count()\n",
        "successes = [A_results.sum(), B_results.sum()]\n",
        "nobs = [n_A, n_B]\n",
        "\n",
        "z_stat, pval = proportions_ztest(successes, nobs=nobs)\n",
        "(lower_A, lower_B), (upper_A, upper_B) = proportion_confint(successes, nobs=nobs, alpha=0.05)\n",
        "\n",
        "print(f'z statistic: {z_stat:.2f}')\n",
        "print(f'p-value: {pval:.3f}')\n",
        "print(f'ci 95% for group A: [{lower_A:.3f}, {upper_A:.3f}]')\n",
        "print(f'ci 95% for group B: [{lower_B:.3f}, {upper_B:.3f}]')"
      ]
    },
    {
      "cell_type": "markdown",
      "id": "d2018460-6490-4b65-95af-09ff86462167",
      "metadata": {
        "id": "d2018460-6490-4b65-95af-09ff86462167"
      },
      "source": [
        "As expected, the p-value is higher than the $\\alpha$ =0.05 threshold, hence it is not possible to reject the Null hypothesis $H_0$; the new experience did not perform different than the old one.\n",
        "\n",
        "Additionally, by looking at the confidence intervals - as in the plot above - it is evident that the conversion rate of the new experience is pretty much the same to the standard. This is further proof that there is no improvement on the selling on the game!"
      ]
    },
    {
      "cell_type": "markdown",
      "id": "9975a6ce-7c16-4cc8-b7c8-e6b4a92d6bf1",
      "metadata": {
        "id": "9975a6ce-7c16-4cc8-b7c8-e6b4a92d6bf1"
      },
      "source": [
        "## Game rounds analysis\n",
        "To compute the average of gamerounds per player for each group:"
      ]
    },
    {
      "cell_type": "code",
      "execution_count": null,
      "id": "9ce2e9ac-fc1d-4f6a-a570-9885058a5047",
      "metadata": {
        "id": "9ce2e9ac-fc1d-4f6a-a570-9885058a5047",
        "outputId": "8216a5ea-1910-43f4-c110-ef2c13cfcd9c"
      },
      "outputs": [
        {
          "name": "stderr",
          "output_type": "stream",
          "text": [
            "Query complete after 0.04s: 100%|██████████| 1/1 [00:00<00:00, 831.05query/s] \n",
            "Downloading: 100%|██████████| 10331056/10331056 [00:07<00:00, 1364640.33rows/s]\n"
          ]
        }
      ],
      "source": [
        "%%bigquery gamecounts\n",
        "SELECT\n",
        "  A.playerid, abtest_group, AVG(gameends) as game_avg\n",
        "FROM\n",
        "  `king-ds-recruit-candidate-722.abtest.assignment` as A INNER JOIN `king-ds-recruit-candidate-722.abtest.activity` as B on A.playerid= B.playerid\n",
        "GROUP BY A.playerid, abtest_group"
      ]
    },
    {
      "cell_type": "code",
      "execution_count": null,
      "id": "c84c5cfc-0c0c-4817-b93d-6481d24ebfc9",
      "metadata": {
        "id": "c84c5cfc-0c0c-4817-b93d-6481d24ebfc9",
        "outputId": "9386238c-69bd-4e28-d7aa-193fc8c9c602"
      },
      "outputs": [
        {
          "data": {
            "image/png": "[encoded data removed]",
            "text/plain": [
              "<Figure size 800x600 with 1 Axes>"
            ]
          },
          "metadata": {},
          "output_type": "display_data"
        }
      ],
      "source": [
        "plt.figure(figsize=(8,6))\n",
        "\n",
        "sns.barplot(x=gamecounts['abtest_group'], y=gamecounts['game_avg']) #, ci=False\n",
        "\n",
        "#plt.ylim(0,1)\n",
        "plt.title('Average of game rounds by group', pad=20)\n",
        "plt.xlabel('Group', labelpad=15)\n",
        "plt.ylabel('Average', labelpad=15);"
      ]
    },
    {
      "cell_type": "markdown",
      "id": "962db123-fe41-48f5-a5d0-60843fba1ddc",
      "metadata": {
        "id": "962db123-fe41-48f5-a5d0-60843fba1ddc"
      },
      "source": [
        "Results don't show a difference in the average of game rounds played by the two groups, again the new experience does not look promising. Maybe it could be useful to analyze how it behaves in the time orizon chosen."
      ]
    },
    {
      "cell_type": "code",
      "execution_count": null,
      "id": "4ee17585-6475-4043-bb59-58fa79d6eb21",
      "metadata": {
        "id": "4ee17585-6475-4043-bb59-58fa79d6eb21",
        "outputId": "c2ba31f1-a3da-43ad-ad7d-e90f174d54d1"
      },
      "outputs": [
        {
          "name": "stderr",
          "output_type": "stream",
          "text": [
            "Query complete after 0.00s: 100%|██████████| 1/1 [00:00<00:00, 674.00query/s] \n",
            "Downloading: 100%|██████████| 8509/8509 [00:01<00:00, 6849.13rows/s]\n"
          ]
        }
      ],
      "source": [
        "%%bigquery avg_gamecounts\n",
        "SELECT\n",
        "  abtest_group, activity_date, AVG(gameends) as game_avg\n",
        "FROM\n",
        "  `king-ds-recruit-candidate-722.abtest.assignment` as A INNER JOIN `king-ds-recruit-candidate-722.abtest.activity` as B on A.playerid= B.playerid    \n",
        "GROUP BY abtest_group, activity_date, gameends"
      ]
    },
    {
      "cell_type": "code",
      "execution_count": null,
      "id": "944d6e87-6d46-4171-981c-2340b04984dd",
      "metadata": {
        "scrolled": true,
        "tags": [],
        "id": "944d6e87-6d46-4171-981c-2340b04984dd",
        "outputId": "ea6ebccc-a3c1-4d69-c12b-be99da6891db"
      },
      "outputs": [
        {
          "data": {
            "text/plain": [
              "[[Text(0, 0, ''),\n",
              "  Text(1, 0, ''),\n",
              "  Text(2, 0, ''),\n",
              "  Text(3, 0, ''),\n",
              "  Text(4, 0, ''),\n",
              "  Text(5, 0, ''),\n",
              "  Text(6, 0, ''),\n",
              "  Text(7, 0, ''),\n",
              "  Text(8, 0, ''),\n",
              "  Text(9, 0, ''),\n",
              "  Text(10, 0, ''),\n",
              "  Text(11, 0, ''),\n",
              "  Text(12, 0, ''),\n",
              "  Text(13, 0, ''),\n",
              "  Text(14, 0, ''),\n",
              "  Text(15, 0, ''),\n",
              "  Text(16, 0, ''),\n",
              "  Text(17, 0, ''),\n",
              "  Text(18, 0, ''),\n",
              "  Text(19, 0, ''),\n",
              "  Text(20, 0, ''),\n",
              "  Text(21, 0, ''),\n",
              "  Text(22, 0, ''),\n",
              "  Text(23, 0, ''),\n",
              "  Text(24, 0, ''),\n",
              "  Text(25, 0, ''),\n",
              "  Text(26, 0, ''),\n",
              "  Text(27, 0, ''),\n",
              "  Text(28, 0, ''),\n",
              "  Text(29, 0, ''),\n",
              "  Text(30, 0, ''),\n",
              "  Text(31, 0, ''),\n",
              "  Text(32, 0, '')]]"
            ]
          },
          "execution_count": 45,
          "metadata": {},
          "output_type": "execute_result"
        },
        {
          "data": {
            "image/png": "[encoded data removed]",
            "text/plain": [
              "<Figure size 640x480 with 1 Axes>"
            ]
          },
          "metadata": {},
          "output_type": "display_data"
        }
      ],
      "source": [
        "g1=sns.lineplot(data=avg_gamecounts, x=\"activity_date\", y=\"game_avg\", hue=\"abtest_group\")\n",
        "g1.set(xticklabels=[])"
      ]
    },
    {
      "cell_type": "markdown",
      "id": "bd741106-2ff5-483b-b7c9-a4613b4ee771",
      "metadata": {
        "id": "bd741106-2ff5-483b-b7c9-a4613b4ee771"
      },
      "source": [
        "## Conclusions\n",
        "Finally after the test results are in, I think there are some points useful to conclude:\n",
        "* Indeed, an important question when referring to A/B tests, is the preservation of metrics as the analysis is made. Metrics in this specific case are intended as the size of samples, players used, conversion dates ecc.\n",
        "* The size of the samples (80% for control and 20% experiment) may have played a role in the results of the A/B test. If players are properly randomized and are reasonably independent (i.e. you don’t expect them to talk to each other about the experience that is being varied), then using unequal size groups is fine: sample means are unbiased estimators of population means, so the group size cannot introduce any bias. But at the same time - if the variances of conversion rates for A and B are similar (typically the case) - the sample size of the smaller group has more impact on the outcome than the sample size of the larger group, i.e. it drives more variance of the difference.\n",
        "* Probably considering the nature of the game - simple layout, direct, comprehensible - the new experience would consists in a different design of the mobile page, maybe to make it as interactive as possible. "
      ]
    }
  ],
  "metadata": {
    "kernelspec": {
      "display_name": "Python (Local)",
      "language": "python",
      "name": "local-base"
    },
    "language_info": {
      "codemirror_mode": {
        "name": "ipython",
        "version": 3
      },
      "file_extension": ".py",
      "mimetype": "text/x-python",
      "name": "python",
      "nbconvert_exporter": "python",
      "pygments_lexer": "ipython3",
      "version": "3.7.12"
    },
    "toc-autonumbering": false,
    "colab": {
      "provenance": []
    }
  },
  "nbformat": 4,
  "nbformat_minor": 5
}